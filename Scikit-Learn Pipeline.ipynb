{
 "cells": [
  {
   "cell_type": "markdown",
   "id": "decreased-thong",
   "metadata": {},
   "source": [
    "## Overview  \n",
    "The below implementation of an sklearn pipeline is the combination of original work and a 'towards data science' article;[A Simple Example of Pipeline in Machine Learning with Scikit-learn](https://towardsdatascience.com/a-simple-example-of-pipeline-in-machine-learning-with-scikit-learn-e726ffbb6976)\n",
    "\n",
    "## Problem Statement\n",
    "The intent for this code is to serve as code-along/self-study reference material."
   ]
  },
  {
   "cell_type": "markdown",
   "id": "valued-length",
   "metadata": {},
   "source": [
    "## Table of Contents  \n",
    "\n",
    "* [Pipeline Theory](#theory)\n",
    "* [Import Libraries](#import_libraries)\n",
    "* [Import Data](#import_data)\n",
    "* [Create DataFrame and Descriptive Metrics](#create_dataframe)\n",
    "* [Data Preprocessing; check for nulls](#data_preprocessing)\n",
    "* [Exploratory Data Analysis](#explore_data)\n",
    "* [Construct Pipeline](#pipeline)\n",
    "* [Splitting the data into training and testing sets](#split_data)\n",
    "* [Tune Model Parameters with GridSearchCV](#grid)\n",
    "* [Predictions from Gridsearch Model](#gs_predict)"
   ]
  },
  {
   "cell_type": "markdown",
   "id": "induced-directory",
   "metadata": {},
   "source": [
    "<a class=\"anchor\" id=\"theory\"></a>\n",
    "## Pipeline Theory\n",
    "\n",
    "A pipeline will:\n",
    "   * Sequentially apply a list of transforms and a final estimator. \n",
    "   * Intermediate steps of pipeline must implement fit and transform methods  \n",
    "   * The final estimator only needs to implement fit"
   ]
  },
  {
   "cell_type": "markdown",
   "id": "religious-holly",
   "metadata": {},
   "source": [
    "<a class=\"anchor\" id=\"import_libraries\"></a>\n",
    "## Import Libraries"
   ]
  },
  {
   "cell_type": "code",
   "execution_count": 1,
   "id": "adult-magnitude",
   "metadata": {},
   "outputs": [],
   "source": [
    "import pandas as pd\n",
    "import numpy as np\n",
    "import matplotlib.pyplot as plt\n",
    "import seaborn as sns\n",
    "%matplotlib inline"
   ]
  },
  {
   "cell_type": "markdown",
   "id": "proof-triangle",
   "metadata": {},
   "source": [
    "<a class=\"anchor\" id=\"import_data\"></a>\n",
    "## Import Data"
   ]
  },
  {
   "cell_type": "code",
   "execution_count": 33,
   "id": "unlike-immigration",
   "metadata": {},
   "outputs": [],
   "source": [
    "df = pd.read_csv('wine.csv')"
   ]
  },
  {
   "cell_type": "markdown",
   "id": "authorized-nature",
   "metadata": {},
   "source": [
    "<a class=\"anchor\" id=\"create_dataframe\"></a>\n",
    "## Create DataFrame and Descriptive Metrics"
   ]
  },
  {
   "cell_type": "code",
   "execution_count": 4,
   "id": "offensive-helmet",
   "metadata": {},
   "outputs": [
    {
     "data": {
      "text/plain": [
       "pandas.core.frame.DataFrame"
      ]
     },
     "execution_count": 4,
     "metadata": {},
     "output_type": "execute_result"
    }
   ],
   "source": [
    "type(df)"
   ]
  },
  {
   "cell_type": "code",
   "execution_count": 5,
   "id": "stainless-moment",
   "metadata": {},
   "outputs": [
    {
     "data": {
      "text/plain": [
       "Index(['fixed acidity', 'volatile acidity', 'citric acid', 'residual sugar',\n",
       "       'chlorides', 'free sulfur dioxide', 'total sulfur dioxide', 'density',\n",
       "       'pH', 'sulphates', 'alcohol', 'quality'],\n",
       "      dtype='object')"
      ]
     },
     "execution_count": 5,
     "metadata": {},
     "output_type": "execute_result"
    }
   ],
   "source": [
    "df.columns"
   ]
  },
  {
   "cell_type": "code",
   "execution_count": 6,
   "id": "honey-optimization",
   "metadata": {},
   "outputs": [
    {
     "data": {
      "text/html": [
       "<div>\n",
       "<style scoped>\n",
       "    .dataframe tbody tr th:only-of-type {\n",
       "        vertical-align: middle;\n",
       "    }\n",
       "\n",
       "    .dataframe tbody tr th {\n",
       "        vertical-align: top;\n",
       "    }\n",
       "\n",
       "    .dataframe thead th {\n",
       "        text-align: right;\n",
       "    }\n",
       "</style>\n",
       "<table border=\"1\" class=\"dataframe\">\n",
       "  <thead>\n",
       "    <tr style=\"text-align: right;\">\n",
       "      <th></th>\n",
       "      <th>fixed acidity</th>\n",
       "      <th>volatile acidity</th>\n",
       "      <th>citric acid</th>\n",
       "      <th>residual sugar</th>\n",
       "      <th>chlorides</th>\n",
       "      <th>free sulfur dioxide</th>\n",
       "      <th>total sulfur dioxide</th>\n",
       "      <th>density</th>\n",
       "      <th>pH</th>\n",
       "      <th>sulphates</th>\n",
       "      <th>alcohol</th>\n",
       "      <th>quality</th>\n",
       "    </tr>\n",
       "  </thead>\n",
       "  <tbody>\n",
       "    <tr>\n",
       "      <th>0</th>\n",
       "      <td>7.4</td>\n",
       "      <td>0.70</td>\n",
       "      <td>0.00</td>\n",
       "      <td>1.9</td>\n",
       "      <td>0.076</td>\n",
       "      <td>11.0</td>\n",
       "      <td>34.0</td>\n",
       "      <td>0.9978</td>\n",
       "      <td>3.51</td>\n",
       "      <td>0.56</td>\n",
       "      <td>9.4</td>\n",
       "      <td>5</td>\n",
       "    </tr>\n",
       "    <tr>\n",
       "      <th>1</th>\n",
       "      <td>7.8</td>\n",
       "      <td>0.88</td>\n",
       "      <td>0.00</td>\n",
       "      <td>2.6</td>\n",
       "      <td>0.098</td>\n",
       "      <td>25.0</td>\n",
       "      <td>67.0</td>\n",
       "      <td>0.9968</td>\n",
       "      <td>3.20</td>\n",
       "      <td>0.68</td>\n",
       "      <td>9.8</td>\n",
       "      <td>5</td>\n",
       "    </tr>\n",
       "    <tr>\n",
       "      <th>2</th>\n",
       "      <td>7.8</td>\n",
       "      <td>0.76</td>\n",
       "      <td>0.04</td>\n",
       "      <td>2.3</td>\n",
       "      <td>0.092</td>\n",
       "      <td>15.0</td>\n",
       "      <td>54.0</td>\n",
       "      <td>0.9970</td>\n",
       "      <td>3.26</td>\n",
       "      <td>0.65</td>\n",
       "      <td>9.8</td>\n",
       "      <td>5</td>\n",
       "    </tr>\n",
       "    <tr>\n",
       "      <th>3</th>\n",
       "      <td>11.2</td>\n",
       "      <td>0.28</td>\n",
       "      <td>0.56</td>\n",
       "      <td>1.9</td>\n",
       "      <td>0.075</td>\n",
       "      <td>17.0</td>\n",
       "      <td>60.0</td>\n",
       "      <td>0.9980</td>\n",
       "      <td>3.16</td>\n",
       "      <td>0.58</td>\n",
       "      <td>9.8</td>\n",
       "      <td>6</td>\n",
       "    </tr>\n",
       "    <tr>\n",
       "      <th>4</th>\n",
       "      <td>7.4</td>\n",
       "      <td>0.70</td>\n",
       "      <td>0.00</td>\n",
       "      <td>1.9</td>\n",
       "      <td>0.076</td>\n",
       "      <td>11.0</td>\n",
       "      <td>34.0</td>\n",
       "      <td>0.9978</td>\n",
       "      <td>3.51</td>\n",
       "      <td>0.56</td>\n",
       "      <td>9.4</td>\n",
       "      <td>5</td>\n",
       "    </tr>\n",
       "  </tbody>\n",
       "</table>\n",
       "</div>"
      ],
      "text/plain": [
       "   fixed acidity  volatile acidity  citric acid  residual sugar  chlorides  \\\n",
       "0            7.4              0.70         0.00             1.9      0.076   \n",
       "1            7.8              0.88         0.00             2.6      0.098   \n",
       "2            7.8              0.76         0.04             2.3      0.092   \n",
       "3           11.2              0.28         0.56             1.9      0.075   \n",
       "4            7.4              0.70         0.00             1.9      0.076   \n",
       "\n",
       "   free sulfur dioxide  total sulfur dioxide  density    pH  sulphates  \\\n",
       "0                 11.0                  34.0   0.9978  3.51       0.56   \n",
       "1                 25.0                  67.0   0.9968  3.20       0.68   \n",
       "2                 15.0                  54.0   0.9970  3.26       0.65   \n",
       "3                 17.0                  60.0   0.9980  3.16       0.58   \n",
       "4                 11.0                  34.0   0.9978  3.51       0.56   \n",
       "\n",
       "   alcohol  quality  \n",
       "0      9.4        5  \n",
       "1      9.8        5  \n",
       "2      9.8        5  \n",
       "3      9.8        6  \n",
       "4      9.4        5  "
      ]
     },
     "execution_count": 6,
     "metadata": {},
     "output_type": "execute_result"
    }
   ],
   "source": [
    "df.head()"
   ]
  },
  {
   "cell_type": "code",
   "execution_count": 7,
   "id": "latest-lawsuit",
   "metadata": {},
   "outputs": [
    {
     "name": "stdout",
     "output_type": "stream",
     "text": [
      "<class 'pandas.core.frame.DataFrame'>\n",
      "RangeIndex: 1599 entries, 0 to 1598\n",
      "Data columns (total 12 columns):\n",
      " #   Column                Non-Null Count  Dtype  \n",
      "---  ------                --------------  -----  \n",
      " 0   fixed acidity         1599 non-null   float64\n",
      " 1   volatile acidity      1599 non-null   float64\n",
      " 2   citric acid           1599 non-null   float64\n",
      " 3   residual sugar        1599 non-null   float64\n",
      " 4   chlorides             1599 non-null   float64\n",
      " 5   free sulfur dioxide   1599 non-null   float64\n",
      " 6   total sulfur dioxide  1599 non-null   float64\n",
      " 7   density               1599 non-null   float64\n",
      " 8   pH                    1599 non-null   float64\n",
      " 9   sulphates             1599 non-null   float64\n",
      " 10  alcohol               1599 non-null   float64\n",
      " 11  quality               1599 non-null   int64  \n",
      "dtypes: float64(11), int64(1)\n",
      "memory usage: 150.0 KB\n"
     ]
    }
   ],
   "source": [
    "df.info()"
   ]
  },
  {
   "cell_type": "code",
   "execution_count": 8,
   "id": "prostate-public",
   "metadata": {},
   "outputs": [
    {
     "data": {
      "text/html": [
       "<div>\n",
       "<style scoped>\n",
       "    .dataframe tbody tr th:only-of-type {\n",
       "        vertical-align: middle;\n",
       "    }\n",
       "\n",
       "    .dataframe tbody tr th {\n",
       "        vertical-align: top;\n",
       "    }\n",
       "\n",
       "    .dataframe thead th {\n",
       "        text-align: right;\n",
       "    }\n",
       "</style>\n",
       "<table border=\"1\" class=\"dataframe\">\n",
       "  <thead>\n",
       "    <tr style=\"text-align: right;\">\n",
       "      <th></th>\n",
       "      <th>fixed acidity</th>\n",
       "      <th>volatile acidity</th>\n",
       "      <th>citric acid</th>\n",
       "      <th>residual sugar</th>\n",
       "      <th>chlorides</th>\n",
       "      <th>free sulfur dioxide</th>\n",
       "      <th>total sulfur dioxide</th>\n",
       "      <th>density</th>\n",
       "      <th>pH</th>\n",
       "      <th>sulphates</th>\n",
       "      <th>alcohol</th>\n",
       "      <th>quality</th>\n",
       "    </tr>\n",
       "  </thead>\n",
       "  <tbody>\n",
       "    <tr>\n",
       "      <th>count</th>\n",
       "      <td>1599.000000</td>\n",
       "      <td>1599.000000</td>\n",
       "      <td>1599.000000</td>\n",
       "      <td>1599.000000</td>\n",
       "      <td>1599.000000</td>\n",
       "      <td>1599.000000</td>\n",
       "      <td>1599.000000</td>\n",
       "      <td>1599.000000</td>\n",
       "      <td>1599.000000</td>\n",
       "      <td>1599.000000</td>\n",
       "      <td>1599.000000</td>\n",
       "      <td>1599.000000</td>\n",
       "    </tr>\n",
       "    <tr>\n",
       "      <th>mean</th>\n",
       "      <td>8.319637</td>\n",
       "      <td>0.527821</td>\n",
       "      <td>0.270976</td>\n",
       "      <td>2.538806</td>\n",
       "      <td>0.087467</td>\n",
       "      <td>15.874922</td>\n",
       "      <td>46.467792</td>\n",
       "      <td>0.996747</td>\n",
       "      <td>3.311113</td>\n",
       "      <td>0.658149</td>\n",
       "      <td>10.422983</td>\n",
       "      <td>5.636023</td>\n",
       "    </tr>\n",
       "    <tr>\n",
       "      <th>std</th>\n",
       "      <td>1.741096</td>\n",
       "      <td>0.179060</td>\n",
       "      <td>0.194801</td>\n",
       "      <td>1.409928</td>\n",
       "      <td>0.047065</td>\n",
       "      <td>10.460157</td>\n",
       "      <td>32.895324</td>\n",
       "      <td>0.001887</td>\n",
       "      <td>0.154386</td>\n",
       "      <td>0.169507</td>\n",
       "      <td>1.065668</td>\n",
       "      <td>0.807569</td>\n",
       "    </tr>\n",
       "    <tr>\n",
       "      <th>min</th>\n",
       "      <td>4.600000</td>\n",
       "      <td>0.120000</td>\n",
       "      <td>0.000000</td>\n",
       "      <td>0.900000</td>\n",
       "      <td>0.012000</td>\n",
       "      <td>1.000000</td>\n",
       "      <td>6.000000</td>\n",
       "      <td>0.990070</td>\n",
       "      <td>2.740000</td>\n",
       "      <td>0.330000</td>\n",
       "      <td>8.400000</td>\n",
       "      <td>3.000000</td>\n",
       "    </tr>\n",
       "    <tr>\n",
       "      <th>25%</th>\n",
       "      <td>7.100000</td>\n",
       "      <td>0.390000</td>\n",
       "      <td>0.090000</td>\n",
       "      <td>1.900000</td>\n",
       "      <td>0.070000</td>\n",
       "      <td>7.000000</td>\n",
       "      <td>22.000000</td>\n",
       "      <td>0.995600</td>\n",
       "      <td>3.210000</td>\n",
       "      <td>0.550000</td>\n",
       "      <td>9.500000</td>\n",
       "      <td>5.000000</td>\n",
       "    </tr>\n",
       "    <tr>\n",
       "      <th>50%</th>\n",
       "      <td>7.900000</td>\n",
       "      <td>0.520000</td>\n",
       "      <td>0.260000</td>\n",
       "      <td>2.200000</td>\n",
       "      <td>0.079000</td>\n",
       "      <td>14.000000</td>\n",
       "      <td>38.000000</td>\n",
       "      <td>0.996750</td>\n",
       "      <td>3.310000</td>\n",
       "      <td>0.620000</td>\n",
       "      <td>10.200000</td>\n",
       "      <td>6.000000</td>\n",
       "    </tr>\n",
       "    <tr>\n",
       "      <th>75%</th>\n",
       "      <td>9.200000</td>\n",
       "      <td>0.640000</td>\n",
       "      <td>0.420000</td>\n",
       "      <td>2.600000</td>\n",
       "      <td>0.090000</td>\n",
       "      <td>21.000000</td>\n",
       "      <td>62.000000</td>\n",
       "      <td>0.997835</td>\n",
       "      <td>3.400000</td>\n",
       "      <td>0.730000</td>\n",
       "      <td>11.100000</td>\n",
       "      <td>6.000000</td>\n",
       "    </tr>\n",
       "    <tr>\n",
       "      <th>max</th>\n",
       "      <td>15.900000</td>\n",
       "      <td>1.580000</td>\n",
       "      <td>1.000000</td>\n",
       "      <td>15.500000</td>\n",
       "      <td>0.611000</td>\n",
       "      <td>72.000000</td>\n",
       "      <td>289.000000</td>\n",
       "      <td>1.003690</td>\n",
       "      <td>4.010000</td>\n",
       "      <td>2.000000</td>\n",
       "      <td>14.900000</td>\n",
       "      <td>8.000000</td>\n",
       "    </tr>\n",
       "  </tbody>\n",
       "</table>\n",
       "</div>"
      ],
      "text/plain": [
       "       fixed acidity  volatile acidity  citric acid  residual sugar  \\\n",
       "count    1599.000000       1599.000000  1599.000000     1599.000000   \n",
       "mean        8.319637          0.527821     0.270976        2.538806   \n",
       "std         1.741096          0.179060     0.194801        1.409928   \n",
       "min         4.600000          0.120000     0.000000        0.900000   \n",
       "25%         7.100000          0.390000     0.090000        1.900000   \n",
       "50%         7.900000          0.520000     0.260000        2.200000   \n",
       "75%         9.200000          0.640000     0.420000        2.600000   \n",
       "max        15.900000          1.580000     1.000000       15.500000   \n",
       "\n",
       "         chlorides  free sulfur dioxide  total sulfur dioxide      density  \\\n",
       "count  1599.000000          1599.000000           1599.000000  1599.000000   \n",
       "mean      0.087467            15.874922             46.467792     0.996747   \n",
       "std       0.047065            10.460157             32.895324     0.001887   \n",
       "min       0.012000             1.000000              6.000000     0.990070   \n",
       "25%       0.070000             7.000000             22.000000     0.995600   \n",
       "50%       0.079000            14.000000             38.000000     0.996750   \n",
       "75%       0.090000            21.000000             62.000000     0.997835   \n",
       "max       0.611000            72.000000            289.000000     1.003690   \n",
       "\n",
       "                pH    sulphates      alcohol      quality  \n",
       "count  1599.000000  1599.000000  1599.000000  1599.000000  \n",
       "mean      3.311113     0.658149    10.422983     5.636023  \n",
       "std       0.154386     0.169507     1.065668     0.807569  \n",
       "min       2.740000     0.330000     8.400000     3.000000  \n",
       "25%       3.210000     0.550000     9.500000     5.000000  \n",
       "50%       3.310000     0.620000    10.200000     6.000000  \n",
       "75%       3.400000     0.730000    11.100000     6.000000  \n",
       "max       4.010000     2.000000    14.900000     8.000000  "
      ]
     },
     "execution_count": 8,
     "metadata": {},
     "output_type": "execute_result"
    }
   ],
   "source": [
    "df.describe()"
   ]
  },
  {
   "cell_type": "markdown",
   "id": "nuclear-there",
   "metadata": {},
   "source": [
    "<a class=\"anchor\" id=\"data_preprocessing\"></a>\n",
    "## Data Preprocessing; check for nulls  "
   ]
  },
  {
   "cell_type": "code",
   "execution_count": 9,
   "id": "theoretical-volleyball",
   "metadata": {},
   "outputs": [
    {
     "data": {
      "text/plain": [
       "fixed acidity           0\n",
       "volatile acidity        0\n",
       "citric acid             0\n",
       "residual sugar          0\n",
       "chlorides               0\n",
       "free sulfur dioxide     0\n",
       "total sulfur dioxide    0\n",
       "density                 0\n",
       "pH                      0\n",
       "sulphates               0\n",
       "alcohol                 0\n",
       "quality                 0\n",
       "dtype: int64"
      ]
     },
     "execution_count": 9,
     "metadata": {},
     "output_type": "execute_result"
    }
   ],
   "source": [
    "df.isnull().sum()"
   ]
  },
  {
   "cell_type": "markdown",
   "id": "employed-jacob",
   "metadata": {},
   "source": [
    "<a class=\"anchor\" id=\"explore_data\"></a>\n",
    "## Exploratory Data Analysis"
   ]
  },
  {
   "cell_type": "code",
   "execution_count": 32,
   "id": "metric-restoration",
   "metadata": {},
   "outputs": [
    {
     "data": {
      "text/plain": [
       "<AxesSubplot:xlabel='quality', ylabel='count'>"
      ]
     },
     "execution_count": 32,
     "metadata": {},
     "output_type": "execute_result"
    },
    {
     "data": {
      "image/png": "[encoded data removed]",
      "text/plain": [
       "<Figure size 432x288 with 1 Axes>"
      ]
     },
     "metadata": {
      "needs_background": "light"
     },
     "output_type": "display_data"
    }
   ],
   "source": [
    "#note; target variable is unbalanced in dataset\n",
    "sns.countplot(x='quality',data=df)"
   ]
  },
  {
   "cell_type": "code",
   "execution_count": 10,
   "id": "owned-victoria",
   "metadata": {},
   "outputs": [
    {
     "data": {
      "text/html": [
       "<div>\n",
       "<style scoped>\n",
       "    .dataframe tbody tr th:only-of-type {\n",
       "        vertical-align: middle;\n",
       "    }\n",
       "\n",
       "    .dataframe tbody tr th {\n",
       "        vertical-align: top;\n",
       "    }\n",
       "\n",
       "    .dataframe thead th {\n",
       "        text-align: right;\n",
       "    }\n",
       "</style>\n",
       "<table border=\"1\" class=\"dataframe\">\n",
       "  <thead>\n",
       "    <tr style=\"text-align: right;\">\n",
       "      <th></th>\n",
       "      <th>fixed acidity</th>\n",
       "      <th>volatile acidity</th>\n",
       "      <th>citric acid</th>\n",
       "      <th>residual sugar</th>\n",
       "      <th>chlorides</th>\n",
       "      <th>free sulfur dioxide</th>\n",
       "      <th>total sulfur dioxide</th>\n",
       "      <th>density</th>\n",
       "      <th>pH</th>\n",
       "      <th>sulphates</th>\n",
       "      <th>alcohol</th>\n",
       "      <th>quality</th>\n",
       "    </tr>\n",
       "  </thead>\n",
       "  <tbody>\n",
       "    <tr>\n",
       "      <th>fixed acidity</th>\n",
       "      <td>1.00</td>\n",
       "      <td>-0.26</td>\n",
       "      <td>0.67</td>\n",
       "      <td>0.11</td>\n",
       "      <td>0.09</td>\n",
       "      <td>-0.15</td>\n",
       "      <td>-0.11</td>\n",
       "      <td>0.67</td>\n",
       "      <td>-0.68</td>\n",
       "      <td>0.18</td>\n",
       "      <td>-0.06</td>\n",
       "      <td>0.12</td>\n",
       "    </tr>\n",
       "    <tr>\n",
       "      <th>volatile acidity</th>\n",
       "      <td>-0.26</td>\n",
       "      <td>1.00</td>\n",
       "      <td>-0.55</td>\n",
       "      <td>0.00</td>\n",
       "      <td>0.06</td>\n",
       "      <td>-0.01</td>\n",
       "      <td>0.08</td>\n",
       "      <td>0.02</td>\n",
       "      <td>0.23</td>\n",
       "      <td>-0.26</td>\n",
       "      <td>-0.20</td>\n",
       "      <td>-0.39</td>\n",
       "    </tr>\n",
       "    <tr>\n",
       "      <th>citric acid</th>\n",
       "      <td>0.67</td>\n",
       "      <td>-0.55</td>\n",
       "      <td>1.00</td>\n",
       "      <td>0.14</td>\n",
       "      <td>0.20</td>\n",
       "      <td>-0.06</td>\n",
       "      <td>0.04</td>\n",
       "      <td>0.36</td>\n",
       "      <td>-0.54</td>\n",
       "      <td>0.31</td>\n",
       "      <td>0.11</td>\n",
       "      <td>0.23</td>\n",
       "    </tr>\n",
       "    <tr>\n",
       "      <th>residual sugar</th>\n",
       "      <td>0.11</td>\n",
       "      <td>0.00</td>\n",
       "      <td>0.14</td>\n",
       "      <td>1.00</td>\n",
       "      <td>0.06</td>\n",
       "      <td>0.19</td>\n",
       "      <td>0.20</td>\n",
       "      <td>0.36</td>\n",
       "      <td>-0.09</td>\n",
       "      <td>0.01</td>\n",
       "      <td>0.04</td>\n",
       "      <td>0.01</td>\n",
       "    </tr>\n",
       "    <tr>\n",
       "      <th>chlorides</th>\n",
       "      <td>0.09</td>\n",
       "      <td>0.06</td>\n",
       "      <td>0.20</td>\n",
       "      <td>0.06</td>\n",
       "      <td>1.00</td>\n",
       "      <td>0.01</td>\n",
       "      <td>0.05</td>\n",
       "      <td>0.20</td>\n",
       "      <td>-0.27</td>\n",
       "      <td>0.37</td>\n",
       "      <td>-0.22</td>\n",
       "      <td>-0.13</td>\n",
       "    </tr>\n",
       "    <tr>\n",
       "      <th>free sulfur dioxide</th>\n",
       "      <td>-0.15</td>\n",
       "      <td>-0.01</td>\n",
       "      <td>-0.06</td>\n",
       "      <td>0.19</td>\n",
       "      <td>0.01</td>\n",
       "      <td>1.00</td>\n",
       "      <td>0.67</td>\n",
       "      <td>-0.02</td>\n",
       "      <td>0.07</td>\n",
       "      <td>0.05</td>\n",
       "      <td>-0.07</td>\n",
       "      <td>-0.05</td>\n",
       "    </tr>\n",
       "    <tr>\n",
       "      <th>total sulfur dioxide</th>\n",
       "      <td>-0.11</td>\n",
       "      <td>0.08</td>\n",
       "      <td>0.04</td>\n",
       "      <td>0.20</td>\n",
       "      <td>0.05</td>\n",
       "      <td>0.67</td>\n",
       "      <td>1.00</td>\n",
       "      <td>0.07</td>\n",
       "      <td>-0.07</td>\n",
       "      <td>0.04</td>\n",
       "      <td>-0.21</td>\n",
       "      <td>-0.19</td>\n",
       "    </tr>\n",
       "    <tr>\n",
       "      <th>density</th>\n",
       "      <td>0.67</td>\n",
       "      <td>0.02</td>\n",
       "      <td>0.36</td>\n",
       "      <td>0.36</td>\n",
       "      <td>0.20</td>\n",
       "      <td>-0.02</td>\n",
       "      <td>0.07</td>\n",
       "      <td>1.00</td>\n",
       "      <td>-0.34</td>\n",
       "      <td>0.15</td>\n",
       "      <td>-0.50</td>\n",
       "      <td>-0.17</td>\n",
       "    </tr>\n",
       "    <tr>\n",
       "      <th>pH</th>\n",
       "      <td>-0.68</td>\n",
       "      <td>0.23</td>\n",
       "      <td>-0.54</td>\n",
       "      <td>-0.09</td>\n",
       "      <td>-0.27</td>\n",
       "      <td>0.07</td>\n",
       "      <td>-0.07</td>\n",
       "      <td>-0.34</td>\n",
       "      <td>1.00</td>\n",
       "      <td>-0.20</td>\n",
       "      <td>0.21</td>\n",
       "      <td>-0.06</td>\n",
       "    </tr>\n",
       "    <tr>\n",
       "      <th>sulphates</th>\n",
       "      <td>0.18</td>\n",
       "      <td>-0.26</td>\n",
       "      <td>0.31</td>\n",
       "      <td>0.01</td>\n",
       "      <td>0.37</td>\n",
       "      <td>0.05</td>\n",
       "      <td>0.04</td>\n",
       "      <td>0.15</td>\n",
       "      <td>-0.20</td>\n",
       "      <td>1.00</td>\n",
       "      <td>0.09</td>\n",
       "      <td>0.25</td>\n",
       "    </tr>\n",
       "    <tr>\n",
       "      <th>alcohol</th>\n",
       "      <td>-0.06</td>\n",
       "      <td>-0.20</td>\n",
       "      <td>0.11</td>\n",
       "      <td>0.04</td>\n",
       "      <td>-0.22</td>\n",
       "      <td>-0.07</td>\n",
       "      <td>-0.21</td>\n",
       "      <td>-0.50</td>\n",
       "      <td>0.21</td>\n",
       "      <td>0.09</td>\n",
       "      <td>1.00</td>\n",
       "      <td>0.48</td>\n",
       "    </tr>\n",
       "    <tr>\n",
       "      <th>quality</th>\n",
       "      <td>0.12</td>\n",
       "      <td>-0.39</td>\n",
       "      <td>0.23</td>\n",
       "      <td>0.01</td>\n",
       "      <td>-0.13</td>\n",
       "      <td>-0.05</td>\n",
       "      <td>-0.19</td>\n",
       "      <td>-0.17</td>\n",
       "      <td>-0.06</td>\n",
       "      <td>0.25</td>\n",
       "      <td>0.48</td>\n",
       "      <td>1.00</td>\n",
       "    </tr>\n",
       "  </tbody>\n",
       "</table>\n",
       "</div>"
      ],
      "text/plain": [
       "                      fixed acidity  volatile acidity  citric acid  \\\n",
       "fixed acidity                  1.00             -0.26         0.67   \n",
       "volatile acidity              -0.26              1.00        -0.55   \n",
       "citric acid                    0.67             -0.55         1.00   \n",
       "residual sugar                 0.11              0.00         0.14   \n",
       "chlorides                      0.09              0.06         0.20   \n",
       "free sulfur dioxide           -0.15             -0.01        -0.06   \n",
       "total sulfur dioxide          -0.11              0.08         0.04   \n",
       "density                        0.67              0.02         0.36   \n",
       "pH                            -0.68              0.23        -0.54   \n",
       "sulphates                      0.18             -0.26         0.31   \n",
       "alcohol                       -0.06             -0.20         0.11   \n",
       "quality                        0.12             -0.39         0.23   \n",
       "\n",
       "                      residual sugar  chlorides  free sulfur dioxide  \\\n",
       "fixed acidity                   0.11       0.09                -0.15   \n",
       "volatile acidity                0.00       0.06                -0.01   \n",
       "citric acid                     0.14       0.20                -0.06   \n",
       "residual sugar                  1.00       0.06                 0.19   \n",
       "chlorides                       0.06       1.00                 0.01   \n",
       "free sulfur dioxide             0.19       0.01                 1.00   \n",
       "total sulfur dioxide            0.20       0.05                 0.67   \n",
       "density                         0.36       0.20                -0.02   \n",
       "pH                             -0.09      -0.27                 0.07   \n",
       "sulphates                       0.01       0.37                 0.05   \n",
       "alcohol                         0.04      -0.22                -0.07   \n",
       "quality                         0.01      -0.13                -0.05   \n",
       "\n",
       "                      total sulfur dioxide  density    pH  sulphates  alcohol  \\\n",
       "fixed acidity                        -0.11     0.67 -0.68       0.18    -0.06   \n",
       "volatile acidity                      0.08     0.02  0.23      -0.26    -0.20   \n",
       "citric acid                           0.04     0.36 -0.54       0.31     0.11   \n",
       "residual sugar                        0.20     0.36 -0.09       0.01     0.04   \n",
       "chlorides                             0.05     0.20 -0.27       0.37    -0.22   \n",
       "free sulfur dioxide                   0.67    -0.02  0.07       0.05    -0.07   \n",
       "total sulfur dioxide                  1.00     0.07 -0.07       0.04    -0.21   \n",
       "density                               0.07     1.00 -0.34       0.15    -0.50   \n",
       "pH                                   -0.07    -0.34  1.00      -0.20     0.21   \n",
       "sulphates                             0.04     0.15 -0.20       1.00     0.09   \n",
       "alcohol                              -0.21    -0.50  0.21       0.09     1.00   \n",
       "quality                              -0.19    -0.17 -0.06       0.25     0.48   \n",
       "\n",
       "                      quality  \n",
       "fixed acidity            0.12  \n",
       "volatile acidity        -0.39  \n",
       "citric acid              0.23  \n",
       "residual sugar           0.01  \n",
       "chlorides               -0.13  \n",
       "free sulfur dioxide     -0.05  \n",
       "total sulfur dioxide    -0.19  \n",
       "density                 -0.17  \n",
       "pH                      -0.06  \n",
       "sulphates                0.25  \n",
       "alcohol                  0.48  \n",
       "quality                  1.00  "
      ]
     },
     "execution_count": 10,
     "metadata": {},
     "output_type": "execute_result"
    }
   ],
   "source": [
    "#create a correlation matrix, round to 2 decimal places\n",
    "correlation_matrix = df.corr().round(2)\n",
    "correlation_matrix"
   ]
  },
  {
   "cell_type": "code",
   "execution_count": 19,
   "id": "compact-johnston",
   "metadata": {},
   "outputs": [
    {
     "data": {
      "text/plain": [
       "<AxesSubplot:>"
      ]
     },
     "execution_count": 19,
     "metadata": {},
     "output_type": "execute_result"
    },
    {
     "data": {
      "image/png": "[encoded data removed]",
      "text/plain": [
       "<Figure size 720x576 with 2 Axes>"
      ]
     },
     "metadata": {
      "needs_background": "light"
     },
     "output_type": "display_data"
    }
   ],
   "source": [
    "plt.figure(figsize=(10,8))\n",
    "           \n",
    "sns.heatmap(data=correlation_matrix,annot=True)"
   ]
  },
  {
   "cell_type": "code",
   "execution_count": 21,
   "id": "favorite-lover",
   "metadata": {},
   "outputs": [
    {
     "data": {
      "text/plain": [
       "Text(0, 0.5, 'fixed acidity')"
      ]
     },
     "execution_count": 21,
     "metadata": {},
     "output_type": "execute_result"
    },
    {
     "data": {
      "image/png": "[encoded data removed]",
      "text/plain": [
       "<Figure size 432x288 with 1 Axes>"
      ]
     },
     "metadata": {
      "needs_background": "light"
     },
     "output_type": "display_data"
    }
   ],
   "source": [
    "plt.scatter(x=df['pH'],y=df['fixed acidity'])\n",
    "\n",
    "plt.title('pH v fixed acidity')\n",
    "plt.xlabel('pH')\n",
    "plt.ylabel('fixed acidity')"
   ]
  },
  {
   "cell_type": "code",
   "execution_count": 22,
   "id": "developed-pennsylvania",
   "metadata": {},
   "outputs": [
    {
     "data": {
      "text/plain": [
       "Text(0, 0.5, 'fixed acidity')"
      ]
     },
     "execution_count": 22,
     "metadata": {},
     "output_type": "execute_result"
    },
    {
     "data": {
      "image/png": "[encoded data removed]",
      "text/plain": [
       "<Figure size 432x288 with 1 Axes>"
      ]
     },
     "metadata": {
      "needs_background": "light"
     },
     "output_type": "display_data"
    }
   ],
   "source": [
    "plt.scatter(x=df['citric acid'],y=df['fixed acidity'])\n",
    "\n",
    "plt.title('citric acid v fixed acidity')\n",
    "plt.xlabel('citric acid')\n",
    "plt.ylabel('fixed acidity')"
   ]
  },
  {
   "cell_type": "markdown",
   "id": "talented-lloyd",
   "metadata": {},
   "source": [
    "<a class=\"anchor\" id=\"pipeline\"></a>\n",
    "## Construct Pipeline"
   ]
  },
  {
   "cell_type": "markdown",
   "id": "clean-plant",
   "metadata": {},
   "source": [
    "Import tools that will be used by the pipeline; the tools/steps implemented will vary based on the data, and the objective of the project"
   ]
  },
  {
   "cell_type": "code",
   "execution_count": 29,
   "id": "endangered-strike",
   "metadata": {},
   "outputs": [],
   "source": [
    "#for this project we will standarize the data, and fit a Support Vector Model/Classifier\n",
    "from sklearn.preprocessing import StandardScaler\n",
    "from sklearn.svm import SVC"
   ]
  },
  {
   "cell_type": "markdown",
   "id": "indoor-glance",
   "metadata": {},
   "source": [
    "The Pipeline is constructed by specifying a list of steps to be executed in the provided order:\n",
    "\n",
    "These steps are list of tuples consisting of a name, and an instance of the transformer/estimator."
   ]
  },
  {
   "cell_type": "code",
   "execution_count": 30,
   "id": "nasty-ambassador",
   "metadata": {},
   "outputs": [],
   "source": [
    "steps = [('scaler', StandardScaler()), ('SVM', SVC())]"
   ]
  },
  {
   "cell_type": "code",
   "execution_count": 31,
   "id": "interior-norman",
   "metadata": {},
   "outputs": [],
   "source": [
    "from sklearn.pipeline import Pipeline\n",
    "pipeline = Pipeline(steps) # define the pipeline object."
   ]
  },
  {
   "cell_type": "markdown",
   "id": "hydraulic-astronomy",
   "metadata": {},
   "source": [
    "<a class=\"anchor\" id=\"split_data\"></a>\n",
    "## Splitting the data into training and testing sets"
   ]
  },
  {
   "cell_type": "code",
   "execution_count": 27,
   "id": "experienced-pottery",
   "metadata": {},
   "outputs": [],
   "source": [
    "X=df.drop('quality',axis=1)\n",
    "y=df['quality']"
   ]
  },
  {
   "cell_type": "code",
   "execution_count": 24,
   "id": "seven-input",
   "metadata": {},
   "outputs": [],
   "source": [
    "from sklearn.model_selection import train_test_split"
   ]
  },
  {
   "cell_type": "code",
   "execution_count": 34,
   "id": "brief-great",
   "metadata": {},
   "outputs": [],
   "source": [
    "#note; stratify the train/test splits as the target variables are unbalanced in the dataset\n",
    "X_train, X_test, y_train, y_test = train_test_split(X, y, test_size=0.2, stratify=y)"
   ]
  },
  {
   "cell_type": "markdown",
   "id": "confidential-lindsay",
   "metadata": {},
   "source": [
    "<a class=\"anchor\" id=\"grid\"></a>\n",
    "## Tune Model Parameters with GridSearchCV"
   ]
  },
  {
   "cell_type": "code",
   "execution_count": 35,
   "id": "sixth-clearance",
   "metadata": {},
   "outputs": [],
   "source": [
    "from sklearn.model_selection import GridSearchCV"
   ]
  },
  {
   "cell_type": "markdown",
   "id": "possible-exemption",
   "metadata": {},
   "source": [
    "### NOTE: Must specify which 'pipeline step' the parameters in param_grid apply to, by declaring the step name followed by 2 underscores followed by the parameter name; ex SVM _ _ C, SVC _ _ gamma, etc."
   ]
  },
  {
   "cell_type": "code",
   "execution_count": 40,
   "id": "maritime-testing",
   "metadata": {},
   "outputs": [],
   "source": [
    "param_grid = {'SVM__C': [0.1,1, 10, 100, 1000], 'SVM__gamma': [1,0.1,0.01,0.001,0.0001], 'SVM__kernel': ['rbf']} "
   ]
  },
  {
   "cell_type": "markdown",
   "id": "stunning-sweet",
   "metadata": {},
   "source": [
    "Create instance of GridSearchCV"
   ]
  },
  {
   "cell_type": "code",
   "execution_count": 41,
   "id": "alone-humanitarian",
   "metadata": {},
   "outputs": [],
   "source": [
    "#instantiate GridSearchCV with the PIPELINE and parameters\n",
    "grid = GridSearchCV(pipeline,param_grid,refit=True,verbose=3)"
   ]
  },
  {
   "cell_type": "markdown",
   "id": "frozen-turning",
   "metadata": {},
   "source": [
    "Fit training data to instance of GridSearchCV"
   ]
  },
  {
   "cell_type": "code",
   "execution_count": 42,
   "id": "suspended-wichita",
   "metadata": {},
   "outputs": [
    {
     "name": "stdout",
     "output_type": "stream",
     "text": [
      "Fitting 5 folds for each of 25 candidates, totalling 125 fits\n",
      "[CV 1/5] END ......SVM__C=0.1, SVM__gamma=1, SVM__kernel=rbf; total time=   0.1s\n",
      "[CV 2/5] END ......SVM__C=0.1, SVM__gamma=1, SVM__kernel=rbf; total time=   0.1s\n",
      "[CV 3/5] END ......SVM__C=0.1, SVM__gamma=1, SVM__kernel=rbf; total time=   0.1s\n",
      "[CV 4/5] END ......SVM__C=0.1, SVM__gamma=1, SVM__kernel=rbf; total time=   0.1s\n",
      "[CV 5/5] END ......SVM__C=0.1, SVM__gamma=1, SVM__kernel=rbf; total time=   0.1s\n",
      "[CV 1/5] END ....SVM__C=0.1, SVM__gamma=0.1, SVM__kernel=rbf; total time=   0.0s\n",
      "[CV 2/5] END ....SVM__C=0.1, SVM__gamma=0.1, SVM__kernel=rbf; total time=   0.0s\n",
      "[CV 3/5] END ....SVM__C=0.1, SVM__gamma=0.1, SVM__kernel=rbf; total time=   0.0s\n",
      "[CV 4/5] END ....SVM__C=0.1, SVM__gamma=0.1, SVM__kernel=rbf; total time=   0.0s\n",
      "[CV 5/5] END ....SVM__C=0.1, SVM__gamma=0.1, SVM__kernel=rbf; total time=   0.0s\n",
      "[CV 1/5] END ...SVM__C=0.1, SVM__gamma=0.01, SVM__kernel=rbf; total time=   0.1s\n",
      "[CV 2/5] END ...SVM__C=0.1, SVM__gamma=0.01, SVM__kernel=rbf; total time=   0.0s\n",
      "[CV 3/5] END ...SVM__C=0.1, SVM__gamma=0.01, SVM__kernel=rbf; total time=   0.0s\n",
      "[CV 4/5] END ...SVM__C=0.1, SVM__gamma=0.01, SVM__kernel=rbf; total time=   0.0s\n",
      "[CV 5/5] END ...SVM__C=0.1, SVM__gamma=0.01, SVM__kernel=rbf; total time=   0.0s\n",
      "[CV 1/5] END ..SVM__C=0.1, SVM__gamma=0.001, SVM__kernel=rbf; total time=   0.0s\n",
      "[CV 2/5] END ..SVM__C=0.1, SVM__gamma=0.001, SVM__kernel=rbf; total time=   0.0s\n",
      "[CV 3/5] END ..SVM__C=0.1, SVM__gamma=0.001, SVM__kernel=rbf; total time=   0.0s\n",
      "[CV 4/5] END ..SVM__C=0.1, SVM__gamma=0.001, SVM__kernel=rbf; total time=   0.0s\n",
      "[CV 5/5] END ..SVM__C=0.1, SVM__gamma=0.001, SVM__kernel=rbf; total time=   0.0s\n",
      "[CV 1/5] END .SVM__C=0.1, SVM__gamma=0.0001, SVM__kernel=rbf; total time=   0.0s\n",
      "[CV 2/5] END .SVM__C=0.1, SVM__gamma=0.0001, SVM__kernel=rbf; total time=   0.0s\n",
      "[CV 3/5] END .SVM__C=0.1, SVM__gamma=0.0001, SVM__kernel=rbf; total time=   0.0s\n",
      "[CV 4/5] END .SVM__C=0.1, SVM__gamma=0.0001, SVM__kernel=rbf; total time=   0.0s\n",
      "[CV 5/5] END .SVM__C=0.1, SVM__gamma=0.0001, SVM__kernel=rbf; total time=   0.1s\n",
      "[CV 1/5] END ........SVM__C=1, SVM__gamma=1, SVM__kernel=rbf; total time=   0.1s\n",
      "[CV 2/5] END ........SVM__C=1, SVM__gamma=1, SVM__kernel=rbf; total time=   0.1s\n",
      "[CV 3/5] END ........SVM__C=1, SVM__gamma=1, SVM__kernel=rbf; total time=   0.1s\n",
      "[CV 4/5] END ........SVM__C=1, SVM__gamma=1, SVM__kernel=rbf; total time=   0.1s\n",
      "[CV 5/5] END ........SVM__C=1, SVM__gamma=1, SVM__kernel=rbf; total time=   0.1s\n",
      "[CV 1/5] END ......SVM__C=1, SVM__gamma=0.1, SVM__kernel=rbf; total time=   0.0s\n",
      "[CV 2/5] END ......SVM__C=1, SVM__gamma=0.1, SVM__kernel=rbf; total time=   0.0s\n",
      "[CV 3/5] END ......SVM__C=1, SVM__gamma=0.1, SVM__kernel=rbf; total time=   0.0s\n",
      "[CV 4/5] END ......SVM__C=1, SVM__gamma=0.1, SVM__kernel=rbf; total time=   0.0s\n",
      "[CV 5/5] END ......SVM__C=1, SVM__gamma=0.1, SVM__kernel=rbf; total time=   0.0s\n",
      "[CV 1/5] END .....SVM__C=1, SVM__gamma=0.01, SVM__kernel=rbf; total time=   0.0s\n",
      "[CV 2/5] END .....SVM__C=1, SVM__gamma=0.01, SVM__kernel=rbf; total time=   0.0s\n",
      "[CV 3/5] END .....SVM__C=1, SVM__gamma=0.01, SVM__kernel=rbf; total time=   0.0s\n",
      "[CV 4/5] END .....SVM__C=1, SVM__gamma=0.01, SVM__kernel=rbf; total time=   0.0s\n",
      "[CV 5/5] END .....SVM__C=1, SVM__gamma=0.01, SVM__kernel=rbf; total time=   0.0s\n",
      "[CV 1/5] END ....SVM__C=1, SVM__gamma=0.001, SVM__kernel=rbf; total time=   0.1s\n",
      "[CV 2/5] END ....SVM__C=1, SVM__gamma=0.001, SVM__kernel=rbf; total time=   0.0s\n",
      "[CV 3/5] END ....SVM__C=1, SVM__gamma=0.001, SVM__kernel=rbf; total time=   0.1s\n",
      "[CV 4/5] END ....SVM__C=1, SVM__gamma=0.001, SVM__kernel=rbf; total time=   0.0s\n",
      "[CV 5/5] END ....SVM__C=1, SVM__gamma=0.001, SVM__kernel=rbf; total time=   0.0s\n",
      "[CV 1/5] END ...SVM__C=1, SVM__gamma=0.0001, SVM__kernel=rbf; total time=   0.0s\n",
      "[CV 2/5] END ...SVM__C=1, SVM__gamma=0.0001, SVM__kernel=rbf; total time=   0.0s\n",
      "[CV 3/5] END ...SVM__C=1, SVM__gamma=0.0001, SVM__kernel=rbf; total time=   0.1s\n",
      "[CV 4/5] END ...SVM__C=1, SVM__gamma=0.0001, SVM__kernel=rbf; total time=   0.0s\n",
      "[CV 5/5] END ...SVM__C=1, SVM__gamma=0.0001, SVM__kernel=rbf; total time=   0.0s\n",
      "[CV 1/5] END .......SVM__C=10, SVM__gamma=1, SVM__kernel=rbf; total time=   0.1s\n",
      "[CV 2/5] END .......SVM__C=10, SVM__gamma=1, SVM__kernel=rbf; total time=   0.1s\n",
      "[CV 3/5] END .......SVM__C=10, SVM__gamma=1, SVM__kernel=rbf; total time=   0.1s\n",
      "[CV 4/5] END .......SVM__C=10, SVM__gamma=1, SVM__kernel=rbf; total time=   0.1s\n",
      "[CV 5/5] END .......SVM__C=10, SVM__gamma=1, SVM__kernel=rbf; total time=   0.2s\n",
      "[CV 1/5] END .....SVM__C=10, SVM__gamma=0.1, SVM__kernel=rbf; total time=   0.0s\n",
      "[CV 2/5] END .....SVM__C=10, SVM__gamma=0.1, SVM__kernel=rbf; total time=   0.0s\n",
      "[CV 3/5] END .....SVM__C=10, SVM__gamma=0.1, SVM__kernel=rbf; total time=   0.0s\n",
      "[CV 4/5] END .....SVM__C=10, SVM__gamma=0.1, SVM__kernel=rbf; total time=   0.1s\n",
      "[CV 5/5] END .....SVM__C=10, SVM__gamma=0.1, SVM__kernel=rbf; total time=   0.0s\n",
      "[CV 1/5] END ....SVM__C=10, SVM__gamma=0.01, SVM__kernel=rbf; total time=   0.0s\n",
      "[CV 2/5] END ....SVM__C=10, SVM__gamma=0.01, SVM__kernel=rbf; total time=   0.0s\n",
      "[CV 3/5] END ....SVM__C=10, SVM__gamma=0.01, SVM__kernel=rbf; total time=   0.0s\n",
      "[CV 4/5] END ....SVM__C=10, SVM__gamma=0.01, SVM__kernel=rbf; total time=   0.0s\n",
      "[CV 5/5] END ....SVM__C=10, SVM__gamma=0.01, SVM__kernel=rbf; total time=   0.0s\n",
      "[CV 1/5] END ...SVM__C=10, SVM__gamma=0.001, SVM__kernel=rbf; total time=   0.0s\n",
      "[CV 2/5] END ...SVM__C=10, SVM__gamma=0.001, SVM__kernel=rbf; total time=   0.0s\n",
      "[CV 3/5] END ...SVM__C=10, SVM__gamma=0.001, SVM__kernel=rbf; total time=   0.0s\n",
      "[CV 4/5] END ...SVM__C=10, SVM__gamma=0.001, SVM__kernel=rbf; total time=   0.0s\n",
      "[CV 5/5] END ...SVM__C=10, SVM__gamma=0.001, SVM__kernel=rbf; total time=   0.0s\n",
      "[CV 1/5] END ..SVM__C=10, SVM__gamma=0.0001, SVM__kernel=rbf; total time=   0.0s\n",
      "[CV 2/5] END ..SVM__C=10, SVM__gamma=0.0001, SVM__kernel=rbf; total time=   0.0s\n",
      "[CV 3/5] END ..SVM__C=10, SVM__gamma=0.0001, SVM__kernel=rbf; total time=   0.0s\n",
      "[CV 4/5] END ..SVM__C=10, SVM__gamma=0.0001, SVM__kernel=rbf; total time=   0.0s\n",
      "[CV 5/5] END ..SVM__C=10, SVM__gamma=0.0001, SVM__kernel=rbf; total time=   0.0s\n",
      "[CV 1/5] END ......SVM__C=100, SVM__gamma=1, SVM__kernel=rbf; total time=   0.1s\n",
      "[CV 2/5] END ......SVM__C=100, SVM__gamma=1, SVM__kernel=rbf; total time=   0.2s\n",
      "[CV 3/5] END ......SVM__C=100, SVM__gamma=1, SVM__kernel=rbf; total time=   0.1s\n",
      "[CV 4/5] END ......SVM__C=100, SVM__gamma=1, SVM__kernel=rbf; total time=   0.1s\n",
      "[CV 5/5] END ......SVM__C=100, SVM__gamma=1, SVM__kernel=rbf; total time=   0.1s\n",
      "[CV 1/5] END ....SVM__C=100, SVM__gamma=0.1, SVM__kernel=rbf; total time=   0.1s\n",
      "[CV 2/5] END ....SVM__C=100, SVM__gamma=0.1, SVM__kernel=rbf; total time=   0.1s\n",
      "[CV 3/5] END ....SVM__C=100, SVM__gamma=0.1, SVM__kernel=rbf; total time=   0.1s\n",
      "[CV 4/5] END ....SVM__C=100, SVM__gamma=0.1, SVM__kernel=rbf; total time=   0.2s\n",
      "[CV 5/5] END ....SVM__C=100, SVM__gamma=0.1, SVM__kernel=rbf; total time=   0.1s\n",
      "[CV 1/5] END ...SVM__C=100, SVM__gamma=0.01, SVM__kernel=rbf; total time=   0.1s\n",
      "[CV 2/5] END ...SVM__C=100, SVM__gamma=0.01, SVM__kernel=rbf; total time=   0.1s\n",
      "[CV 3/5] END ...SVM__C=100, SVM__gamma=0.01, SVM__kernel=rbf; total time=   0.0s\n",
      "[CV 4/5] END ...SVM__C=100, SVM__gamma=0.01, SVM__kernel=rbf; total time=   0.0s\n",
      "[CV 5/5] END ...SVM__C=100, SVM__gamma=0.01, SVM__kernel=rbf; total time=   0.0s\n",
      "[CV 1/5] END ..SVM__C=100, SVM__gamma=0.001, SVM__kernel=rbf; total time=   0.0s\n",
      "[CV 2/5] END ..SVM__C=100, SVM__gamma=0.001, SVM__kernel=rbf; total time=   0.0s\n",
      "[CV 3/5] END ..SVM__C=100, SVM__gamma=0.001, SVM__kernel=rbf; total time=   0.0s\n",
      "[CV 4/5] END ..SVM__C=100, SVM__gamma=0.001, SVM__kernel=rbf; total time=   0.0s\n",
      "[CV 5/5] END ..SVM__C=100, SVM__gamma=0.001, SVM__kernel=rbf; total time=   0.0s\n",
      "[CV 1/5] END .SVM__C=100, SVM__gamma=0.0001, SVM__kernel=rbf; total time=   0.0s\n",
      "[CV 2/5] END .SVM__C=100, SVM__gamma=0.0001, SVM__kernel=rbf; total time=   0.0s\n",
      "[CV 3/5] END .SVM__C=100, SVM__gamma=0.0001, SVM__kernel=rbf; total time=   0.0s\n",
      "[CV 4/5] END .SVM__C=100, SVM__gamma=0.0001, SVM__kernel=rbf; total time=   0.0s\n",
      "[CV 5/5] END .SVM__C=100, SVM__gamma=0.0001, SVM__kernel=rbf; total time=   0.1s\n",
      "[CV 1/5] END .....SVM__C=1000, SVM__gamma=1, SVM__kernel=rbf; total time=   0.1s\n"
     ]
    },
    {
     "name": "stdout",
     "output_type": "stream",
     "text": [
      "[CV 2/5] END .....SVM__C=1000, SVM__gamma=1, SVM__kernel=rbf; total time=   0.1s\n",
      "[CV 3/5] END .....SVM__C=1000, SVM__gamma=1, SVM__kernel=rbf; total time=   0.1s\n",
      "[CV 4/5] END .....SVM__C=1000, SVM__gamma=1, SVM__kernel=rbf; total time=   0.1s\n",
      "[CV 5/5] END .....SVM__C=1000, SVM__gamma=1, SVM__kernel=rbf; total time=   0.1s\n",
      "[CV 1/5] END ...SVM__C=1000, SVM__gamma=0.1, SVM__kernel=rbf; total time=   0.2s\n",
      "[CV 2/5] END ...SVM__C=1000, SVM__gamma=0.1, SVM__kernel=rbf; total time=   0.3s\n",
      "[CV 3/5] END ...SVM__C=1000, SVM__gamma=0.1, SVM__kernel=rbf; total time=   0.2s\n",
      "[CV 4/5] END ...SVM__C=1000, SVM__gamma=0.1, SVM__kernel=rbf; total time=   0.3s\n",
      "[CV 5/5] END ...SVM__C=1000, SVM__gamma=0.1, SVM__kernel=rbf; total time=   0.3s\n",
      "[CV 1/5] END ..SVM__C=1000, SVM__gamma=0.01, SVM__kernel=rbf; total time=   0.3s\n",
      "[CV 2/5] END ..SVM__C=1000, SVM__gamma=0.01, SVM__kernel=rbf; total time=   0.3s\n",
      "[CV 3/5] END ..SVM__C=1000, SVM__gamma=0.01, SVM__kernel=rbf; total time=   0.3s\n",
      "[CV 4/5] END ..SVM__C=1000, SVM__gamma=0.01, SVM__kernel=rbf; total time=   0.3s\n",
      "[CV 5/5] END ..SVM__C=1000, SVM__gamma=0.01, SVM__kernel=rbf; total time=   0.3s\n",
      "[CV 1/5] END .SVM__C=1000, SVM__gamma=0.001, SVM__kernel=rbf; total time=   0.1s\n",
      "[CV 2/5] END .SVM__C=1000, SVM__gamma=0.001, SVM__kernel=rbf; total time=   0.1s\n",
      "[CV 3/5] END .SVM__C=1000, SVM__gamma=0.001, SVM__kernel=rbf; total time=   0.1s\n",
      "[CV 4/5] END .SVM__C=1000, SVM__gamma=0.001, SVM__kernel=rbf; total time=   0.1s\n",
      "[CV 5/5] END .SVM__C=1000, SVM__gamma=0.001, SVM__kernel=rbf; total time=   0.1s\n",
      "[CV 1/5] END SVM__C=1000, SVM__gamma=0.0001, SVM__kernel=rbf; total time=   0.1s\n",
      "[CV 2/5] END SVM__C=1000, SVM__gamma=0.0001, SVM__kernel=rbf; total time=   0.1s\n",
      "[CV 3/5] END SVM__C=1000, SVM__gamma=0.0001, SVM__kernel=rbf; total time=   0.1s\n",
      "[CV 4/5] END SVM__C=1000, SVM__gamma=0.0001, SVM__kernel=rbf; total time=   0.0s\n",
      "[CV 5/5] END SVM__C=1000, SVM__gamma=0.0001, SVM__kernel=rbf; total time=   0.0s\n"
     ]
    },
    {
     "data": {
      "text/plain": [
       "GridSearchCV(estimator=Pipeline(steps=[('scaler', StandardScaler()),\n",
       "                                       ('SVM', SVC())]),\n",
       "             param_grid={'SVM__C': [0.1, 1, 10, 100, 1000],\n",
       "                         'SVM__gamma': [1, 0.1, 0.01, 0.001, 0.0001],\n",
       "                         'SVM__kernel': ['rbf']},\n",
       "             verbose=3)"
      ]
     },
     "execution_count": 42,
     "metadata": {},
     "output_type": "execute_result"
    }
   ],
   "source": [
    "grid.fit(X_train, y_train)"
   ]
  },
  {
   "cell_type": "markdown",
   "id": "intended-forest",
   "metadata": {},
   "source": [
    "Retrieve the 'best' parameter settings; the settings that gave the best results on the hold out data."
   ]
  },
  {
   "cell_type": "code",
   "execution_count": 43,
   "id": "included-preservation",
   "metadata": {},
   "outputs": [
    {
     "data": {
      "text/plain": [
       "{'SVM__C': 10, 'SVM__gamma': 1, 'SVM__kernel': 'rbf'}"
      ]
     },
     "execution_count": 43,
     "metadata": {},
     "output_type": "execute_result"
    }
   ],
   "source": [
    "grid.best_params_"
   ]
  },
  {
   "cell_type": "code",
   "execution_count": 46,
   "id": "joined-effort",
   "metadata": {},
   "outputs": [
    {
     "name": "stdout",
     "output_type": "stream",
     "text": [
      "score = 0.68\n"
     ]
    }
   ],
   "source": [
    "print(\"score = %3.2f\" %(grid.score(X_test,y_test)))"
   ]
  },
  {
   "cell_type": "markdown",
   "id": "fitting-shepherd",
   "metadata": {},
   "source": [
    "<a class=\"anchor\" id=\"gs_predict\"></a>\n",
    "## Predictions from GridSearchCV Model"
   ]
  },
  {
   "cell_type": "code",
   "execution_count": 47,
   "id": "permanent-rhythm",
   "metadata": {},
   "outputs": [],
   "source": [
    "grid_predictions = grid.predict(X_test)"
   ]
  },
  {
   "cell_type": "code",
   "execution_count": 49,
   "id": "noted-controversy",
   "metadata": {},
   "outputs": [],
   "source": [
    "from sklearn.metrics import classification_report,confusion_matrix"
   ]
  },
  {
   "cell_type": "code",
   "execution_count": 50,
   "id": "fatal-latex",
   "metadata": {},
   "outputs": [
    {
     "name": "stdout",
     "output_type": "stream",
     "text": [
      "Predictions from Model with Gridsearch parameters:\n",
      "\n",
      "\n",
      "[[  0   0   1   1   0   0]\n",
      " [  0   0   6   5   0   0]\n",
      " [  0   1 104  31   0   0]\n",
      " [  0   0  28  96   4   0]\n",
      " [  0   0   8  15  16   1]\n",
      " [  0   0   0   1   1   1]]\n",
      "\n",
      "\n",
      "              precision    recall  f1-score   support\n",
      "\n",
      "           3       0.00      0.00      0.00         2\n",
      "           4       0.00      0.00      0.00        11\n",
      "           5       0.71      0.76      0.73       136\n",
      "           6       0.64      0.75      0.69       128\n",
      "           7       0.76      0.40      0.52        40\n",
      "           8       0.50      0.33      0.40         3\n",
      "\n",
      "    accuracy                           0.68       320\n",
      "   macro avg       0.44      0.37      0.39       320\n",
      "weighted avg       0.66      0.68      0.66       320\n",
      "\n"
     ]
    },
    {
     "name": "stderr",
     "output_type": "stream",
     "text": [
      "c:\\users\\devin\\appdata\\local\\programs\\python\\python38\\lib\\site-packages\\sklearn\\metrics\\_classification.py:1245: UndefinedMetricWarning: Precision and F-score are ill-defined and being set to 0.0 in labels with no predicted samples. Use `zero_division` parameter to control this behavior.\n",
      "  _warn_prf(average, modifier, msg_start, len(result))\n",
      "c:\\users\\devin\\appdata\\local\\programs\\python\\python38\\lib\\site-packages\\sklearn\\metrics\\_classification.py:1245: UndefinedMetricWarning: Precision and F-score are ill-defined and being set to 0.0 in labels with no predicted samples. Use `zero_division` parameter to control this behavior.\n",
      "  _warn_prf(average, modifier, msg_start, len(result))\n",
      "c:\\users\\devin\\appdata\\local\\programs\\python\\python38\\lib\\site-packages\\sklearn\\metrics\\_classification.py:1245: UndefinedMetricWarning: Precision and F-score are ill-defined and being set to 0.0 in labels with no predicted samples. Use `zero_division` parameter to control this behavior.\n",
      "  _warn_prf(average, modifier, msg_start, len(result))\n"
     ]
    }
   ],
   "source": [
    "print('Predictions from Model with Gridsearch parameters:')\n",
    "print('\\n')\n",
    "print(confusion_matrix(y_test,grid_predictions))\n",
    "print('\\n')\n",
    "print(classification_report(y_test,grid_predictions))"
   ]
  }
 ],
 "metadata": {
  "kernelspec": {
   "display_name": "Python 3",
   "language": "python",
   "name": "python3"
  },
  "language_info": {
   "codemirror_mode": {
    "name": "ipython",
    "version": 3
   },
   "file_extension": ".py",
   "mimetype": "text/x-python",
   "name": "python",
   "nbconvert_exporter": "python",
   "pygments_lexer": "ipython3",
   "version": "3.8.0"
  }
 },
 "nbformat": 4,
 "nbformat_minor": 5
}
